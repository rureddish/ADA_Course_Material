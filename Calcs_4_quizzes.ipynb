{
 "cells": [
  {
   "cell_type": "code",
   "execution_count": 45,
   "metadata": {},
   "outputs": [],
   "source": [
    "import numpy as np\n",
    "\n",
    "A = np.array([[1, 2, 3],\n",
    "               [1, 2, 3],\n",
    "               [4, 5, 6]])\n",
    "\n",
    "B = np.array([[1, 2, 3],\n",
    "               [1, 2, 3],\n",
    "               [4, 5, 6]])"
   ]
  },
  {
   "cell_type": "code",
   "execution_count": 46,
   "metadata": {},
   "outputs": [
    {
     "data": {
      "text/plain": [
       "27"
      ]
     },
     "execution_count": 46,
     "metadata": {},
     "output_type": "execute_result"
    }
   ],
   "source": [
    "np.dot(A[1,:],B[:,2])"
   ]
  },
  {
   "cell_type": "code",
   "execution_count": 47,
   "metadata": {},
   "outputs": [
    {
     "data": {
      "text/plain": [
       "6.0"
      ]
     },
     "execution_count": 47,
     "metadata": {},
     "output_type": "execute_result"
    }
   ],
   "source": [
    "np.linalg.norm((A[1,:] - B[:,2]),ord=1) #l1 norm"
   ]
  },
  {
   "cell_type": "code",
   "execution_count": 48,
   "metadata": {},
   "outputs": [
    {
     "data": {
      "text/plain": [
       "3.7416573867739413"
      ]
     },
     "execution_count": 48,
     "metadata": {},
     "output_type": "execute_result"
    }
   ],
   "source": [
    "np.linalg.norm((A[1,:] - B[:,2]),ord=2) #l2 norm"
   ]
  },
  {
   "cell_type": "code",
   "execution_count": 49,
   "metadata": {},
   "outputs": [
    {
     "data": {
      "text/plain": [
       "-0.6931471805599453"
      ]
     },
     "execution_count": 49,
     "metadata": {},
     "output_type": "execute_result"
    }
   ],
   "source": [
    "#for contexts replace name doc with context\n",
    "NoDocs_total = 1\n",
    "NoDocs_w = 2\n",
    "docfreq_w = NoDocs_w/NoDocs_total\n",
    "freq_w_in_respective_doc = 1\n",
    "TFIDF = freq_w_in_respective_doc * -np.log(docfreq_w/NoDocs_total)\n",
    "TFIDF"
   ]
  },
  {
   "cell_type": "code",
   "execution_count": 50,
   "metadata": {},
   "outputs": [
    {
     "data": {
      "text/plain": [
       "8.804875263868018"
      ]
     },
     "execution_count": 50,
     "metadata": {},
     "output_type": "execute_result"
    }
   ],
   "source": [
    "Total_words = 10000\n",
    "P_w_c = 2 / Total_words #times word occurs together with context / Total_words\n",
    "P_w = 3 / Total_words #times word occurs / Total_words\n",
    "P_c = 1 / Total_words #times context occurs / Total_words\n",
    "PMI_w_c = np.log(P_w_c/(P_w * P_c))\n",
    "PMI_w_c"
   ]
  },
  {
   "cell_type": "code",
   "execution_count": 51,
   "metadata": {},
   "outputs": [
    {
     "data": {
      "text/plain": [
       "9.210340371976184"
      ]
     },
     "execution_count": 51,
     "metadata": {},
     "output_type": "execute_result"
    }
   ],
   "source": [
    "Total_words = 10000\n",
    "P_w_c = 1 / Total_words #times word occurs together with context / Total_words\n",
    "P_w = 1 / Total_words #times word occurs / Total_words\n",
    "P_c = 1 / Total_words #times context occurs / Total_words\n",
    "PMI_w_c = np.log(P_w_c/(P_w * P_c))\n",
    "PMI_w_c"
   ]
  },
  {
   "cell_type": "markdown",
   "metadata": {},
   "source": [
    "# Graphs"
   ]
  },
  {
   "cell_type": "code",
   "execution_count": 18,
   "metadata": {},
   "outputs": [],
   "source": [
    "import networkx as nx\n",
    "import matplotlib.pyplot as plt\n",
    "import numpy as np"
   ]
  },
  {
   "cell_type": "code",
   "execution_count": null,
   "metadata": {},
   "outputs": [],
   "source": [
    "def insert(adj, u, v):\n",
    " \n",
    "    # Insert a vertex v to vertex u\n",
    "    adj[u].append(v)\n",
    "    return\n",
    "\n",
    "def convert(adj, V):\n",
    " \n",
    "    # Initialize a matrix\n",
    "    matrix = [[0 for j in range(V)]\n",
    "                 for i in range(V)]\n",
    "     \n",
    "    for i in range(V):\n",
    "        for j in adj[i]:\n",
    "            matrix[i][j] = 1\n",
    "     \n",
    "    return matrix\n",
    "\n",
    "def printMatrix(adj, V):\n",
    "     \n",
    "    for i in range(V):\n",
    "        for j in range(V):\n",
    "            print(adj[i][j], end = ' ')\n",
    "             \n",
    "        print()\n",
    "         \n",
    "    print()\n",
    "\n",
    "def printList(adj, V):\n",
    "     \n",
    "    for i in range(V):\n",
    "        print(i, end = '')\n",
    "         \n",
    "        for j in adj[i]:\n",
    "            print(' --> ' + str(j), end = '')\n",
    "             \n",
    "        print()\n",
    "         \n",
    "    print()"
   ]
  },
  {
   "cell_type": "code",
   "execution_count": null,
   "metadata": {},
   "outputs": [],
   "source": [
    "V = 5\n",
    "  \n",
    "adjList = [[] for i in range(V)]\n",
    "\n",
    "# Inserting edges\n",
    "insert(adjList, 0, 1)\n",
    "insert(adjList, 0, 4)\n",
    "insert(adjList, 1, 0)\n",
    "insert(adjList, 1, 2)\n",
    "insert(adjList, 1, 3)\n",
    "insert(adjList, 1, 4)\n",
    "insert(adjList, 2, 1)\n",
    "insert(adjList, 2, 3)\n",
    "insert(adjList, 3, 1)\n",
    "insert(adjList, 3, 2)\n",
    "insert(adjList, 3, 4)\n",
    "insert(adjList, 4, 0)\n",
    "insert(adjList, 4, 1)\n",
    "insert(adjList, 4, 3)\n",
    "\n",
    "# Display adjacency list\n",
    "print(\"Adjacency List: \")\n",
    "printList(adjList, V)\n",
    "\n",
    "# Function call which returns\n",
    "# adjacency matrix after conversion\n",
    "adjMatrix = convert(adjList, V)\n",
    "\n",
    "# Display adjacency matrix\n",
    "print(\"Adjacency Matrix: \")\n",
    "printMatrix(adjMatrix, V)"
   ]
  },
  {
   "cell_type": "code",
   "execution_count": 40,
   "metadata": {},
   "outputs": [],
   "source": [
    "#G = nx.Graph() # undirected\n",
    "G = nx.DiGraph() # directed\n",
    "\n",
    "AdjL = np.array([[0,0,1,1,0,1,1,1],\n",
    "                 [0,0,1,1,0,0,0,0],\n",
    "                 [0,0,0,1,0,0,0,0],\n",
    "                 [0,0,0,0,1,0,0,0],\n",
    "                 [0,0,0,0,0,0,0,0],\n",
    "                 [0,0,0,0,0,0,0,0],\n",
    "                 [0,0,0,0,0,0,0,0],\n",
    "                 [0,0,0,0,0,0,0,0]])\n",
    "\n",
    "G = nx.from_numpy_matrix(AdjL)"
   ]
  },
  {
   "cell_type": "code",
   "execution_count": 38,
   "metadata": {},
   "outputs": [
    {
     "data": {
      "text/plain": [
       "1.125"
      ]
     },
     "execution_count": 38,
     "metadata": {},
     "output_type": "execute_result"
    }
   ],
   "source": [
    "np.mean([0,0,1,3,1,2,1,1])"
   ]
  },
  {
   "cell_type": "code",
   "execution_count": 4,
   "metadata": {},
   "outputs": [],
   "source": [
    "# Create graph\n",
    "G = nx.Graph() # undirected\n",
    "di_G = nx.DiGraph() # directed\n",
    "\n",
    "# Add Nodes\n",
    "G.add_node(1)\n",
    "G.add_nodes_from(range(2,9))\n",
    "\n",
    "# Add Edges\n",
    "G.add_edge(1,2)\n",
    "edges = [(2,3), (1,3), (4,1), (4,5), (5,6), (5,7), (6,7), (7,8), (6,8)]\n",
    "G.add_edges_from(edges)\n"
   ]
  },
  {
   "cell_type": "code",
   "execution_count": 34,
   "metadata": {},
   "outputs": [
    {
     "data": {
      "text/plain": [
       "NodeView((0, 1, 2))"
      ]
     },
     "execution_count": 34,
     "metadata": {},
     "output_type": "execute_result"
    }
   ],
   "source": [
    "G.nodes()"
   ]
  },
  {
   "cell_type": "code",
   "execution_count": 41,
   "metadata": {},
   "outputs": [
    {
     "data": {
      "text/plain": [
       "{0: 0.7142857142857142,\n",
       " 1: 0.0,\n",
       " 2: 0.09523809523809523,\n",
       " 3: 0.38095238095238093,\n",
       " 4: 0.0,\n",
       " 5: 0.0,\n",
       " 6: 0.0,\n",
       " 7: 0.0}"
      ]
     },
     "execution_count": 41,
     "metadata": {},
     "output_type": "execute_result"
    }
   ],
   "source": [
    "nx.betweenness_centrality(G)"
   ]
  },
  {
   "cell_type": "code",
   "execution_count": 42,
   "metadata": {},
   "outputs": [
    {
     "data": {
      "text/plain": [
       "{0: 0.7777777777777778,\n",
       " 1: 0.4666666666666667,\n",
       " 2: 0.6363636363636364,\n",
       " 3: 0.7,\n",
       " 4: 0.4375,\n",
       " 5: 0.4666666666666667,\n",
       " 6: 0.4666666666666667,\n",
       " 7: 0.4666666666666667}"
      ]
     },
     "execution_count": 42,
     "metadata": {},
     "output_type": "execute_result"
    }
   ],
   "source": [
    "nx.closeness_centrality(G)"
   ]
  },
  {
   "cell_type": "code",
   "execution_count": 43,
   "metadata": {},
   "outputs": [
    {
     "data": {
      "text/plain": [
       "DegreeView({0: 5, 1: 2, 2: 3, 3: 4, 4: 1, 5: 1, 6: 1, 7: 1})"
      ]
     },
     "execution_count": 43,
     "metadata": {},
     "output_type": "execute_result"
    }
   ],
   "source": [
    "nx.degree(G)"
   ]
  },
  {
   "cell_type": "code",
   "execution_count": 32,
   "metadata": {},
   "outputs": [
    {
     "name": "stderr",
     "output_type": "stream",
     "text": [
      "/var/folders/rm/7_ymgfb97mbb78p4rhq92vww0000gn/T/ipykernel_5207/3305676400.py:22: DeprecationWarning: info is deprecated and will be removed in version 3.0.\n",
      "\n",
      "  print(nx.info(G))\n"
     ]
    },
    {
     "name": "stdout",
     "output_type": "stream",
     "text": [
      "Graph with 3 nodes and 2 edges\n",
      "Avg. Shortest Path Length: 1.3333\n",
      "Diameter: 2.0000\n",
      "Sparsity: 0.6667\n",
      "Global clustering coefficient aka Transitivity: 0.0000\n"
     ]
    },
    {
     "data": {
      "image/png": "[encoded data removed]",
      "text/plain": [
       "<Figure size 2000x800 with 1 Axes>"
      ]
     },
     "metadata": {},
     "output_type": "display_data"
    },
    {
     "data": {
      "image/png": "[encoded data removed]",
      "text/plain": [
       "<Figure size 640x480 with 1 Axes>"
      ]
     },
     "metadata": {},
     "output_type": "display_data"
    }
   ],
   "source": [
    "describe_graph(G)\n",
    "visualize_graph(G, k=0.05, alpha=0.6)\n",
    "plot_degree_distribution(G)"
   ]
  },
  {
   "cell_type": "markdown",
   "metadata": {},
   "source": [
    "### Information about the graph"
   ]
  },
  {
   "cell_type": "code",
   "execution_count": null,
   "metadata": {},
   "outputs": [],
   "source": [
    "# Check Nodes\n",
    "G.nodes()\n",
    "\n",
    "# Get Information\n",
    "print(nx.info(G))"
   ]
  },
  {
   "cell_type": "code",
   "execution_count": null,
   "metadata": {},
   "outputs": [],
   "source": [
    "# Draw Graph\n",
    "nx.draw_spring(G, with_labels=True,  alpha = 0.6)"
   ]
  },
  {
   "cell_type": "code",
   "execution_count": 15,
   "metadata": {
    "ExecuteTime": {
     "end_time": "2020-01-11T20:01:12.510442Z",
     "start_time": "2020-01-11T20:01:12.486254Z"
    }
   },
   "outputs": [],
   "source": [
    "# Degree distrbution\n",
    "def plot_degree_distribution(G):\n",
    "    degrees = {}\n",
    "    for node in G.nodes():\n",
    "        degree = G.degree(node)\n",
    "        if degree not in degrees:\n",
    "            degrees[degree] = 0\n",
    "        degrees[degree] += 1\n",
    "    sorted_degree = sorted(degrees.items())\n",
    "    deg = [k for (k,v) in sorted_degree]\n",
    "    cnt = [v for (k,v) in sorted_degree]\n",
    "    fig, ax = plt.subplots()\n",
    "    plt.bar(deg, cnt, width=0.80, color='plum')\n",
    "    plt.title(\"Degree Distribution\")\n",
    "    plt.ylabel(\"Frequency\")\n",
    "    plt.xlabel(\"Degree\")\n",
    "    ax.set_xticks([d+0.05 for d in deg])\n",
    "    ax.set_xticklabels(deg)\n",
    "    \n",
    "# Graph properties\n",
    "def describe_graph(G):\n",
    "    print(nx.info(G))\n",
    "    if nx.is_connected(G):\n",
    "        print(\"Avg. Shortest Path Length: %.4f\" %nx.average_shortest_path_length(G))\n",
    "        print(\"Diameter: %.4f\" %nx.diameter(G)) # Longest shortest path\n",
    "    else:\n",
    "        print(\"Graph is not connected\")\n",
    "        print(\"Diameter and Avg shortest path length are not defined!\")\n",
    "    print(\"Sparsity: %.4f\" %nx.density(G))  # #edges/#edges-complete-graph\n",
    "    # #closed-triplets(3*#triangles)/#all-triplets\n",
    "    print(\"Global clustering coefficient aka Transitivity: %.4f\" %nx.transitivity(G))\n",
    "    \n",
    "# Helper function for visualizing the graph\n",
    "def visualize_graph(G, with_labels=True, k=None, alpha=0.6, node_shape='o'):\n",
    "    #nx.draw_spring(G, with_labels=with_labels, alpha = alpha)\n",
    "    plt.figure(figsize=(20, 8))\n",
    "    pos = nx.spring_layout(G, k=k)\n",
    "    if with_labels:\n",
    "        lab = nx.draw_networkx_labels(G, pos, labels=dict([(n, n) for n in G.nodes()]))\n",
    "    ec = nx.draw_networkx_edges(G, pos, alpha=alpha)\n",
    "    nc = nx.draw_networkx_nodes(G, pos, nodelist=G.nodes(), node_color='powderblue', node_shape=node_shape)\n",
    "    plt.axis('off')"
   ]
  },
  {
   "cell_type": "code",
   "execution_count": null,
   "metadata": {},
   "outputs": [],
   "source": [
    "# Circular graph\n",
    "nx.draw_circular(G, with_labels=True,  node_color='powderblue', alpha = 0.8)"
   ]
  },
  {
   "cell_type": "code",
   "execution_count": null,
   "metadata": {},
   "outputs": [],
   "source": [
    "# Sparsity\n",
    "print(\"Network sparsity: %.4f\" %nx.density(G))"
   ]
  },
  {
   "cell_type": "code",
   "execution_count": null,
   "metadata": {},
   "outputs": [],
   "source": [
    "# Check if connected graph\n",
    "print(nx.is_connected(G))"
   ]
  },
  {
   "cell_type": "code",
   "execution_count": null,
   "metadata": {},
   "outputs": [],
   "source": [
    "# Number of components\n",
    "comp = list(nx.connected_components(G))\n",
    "print('The graph contains', len(comp), 'connected components')\n",
    "\n",
    "# Largest component\n",
    "largest_comp = max(comp, key=len)\n",
    "percentage_lcc = len(largest_comp)/G.number_of_nodes() * 100\n",
    "print('The largest component has', len(largest_comp), 'nodes', \n",
    "      'accounting for %.2f'% percentage_lcc, '% of the nodes') "
   ]
  },
  {
   "cell_type": "code",
   "execution_count": null,
   "metadata": {},
   "outputs": [],
   "source": [
    "# shortest path\n",
    "path = nx.shortest_path(G, source=\"source node\", target=\"target node\")\n"
   ]
  },
  {
   "cell_type": "code",
   "execution_count": null,
   "metadata": {},
   "outputs": [],
   "source": [
    "# Longest short path - diameter of the graph\n",
    "temp_graph = graph.subgraph(largest_comp)\n",
    "print(\"The diameter of the largest connected component is\", \n",
    "      nx.diameter(lcc_quakerG))\n",
    "print(\"The avg shortest path length of the largest connected component is\", \n",
    "      nx.average_shortest_path_length(lcc_quakerG))"
   ]
  },
  {
   "cell_type": "code",
   "execution_count": null,
   "metadata": {},
   "outputs": [],
   "source": [
    "# Ratio of all possible triangles - Transitivity - Triadic closure\n",
    "print('%.4f' %nx.transitivity(G))"
   ]
  },
  {
   "cell_type": "code",
   "execution_count": null,
   "metadata": {},
   "outputs": [],
   "source": [
    "# Clustering coefficient\n",
    "print(nx.clustering(G, ['node1', 'node2']))"
   ]
  },
  {
   "cell_type": "code",
   "execution_count": null,
   "metadata": {},
   "outputs": [],
   "source": [
    "# All pairs shortest path length\n",
    "all_pairs_shortest_path_length(G)"
   ]
  },
  {
   "cell_type": "code",
   "execution_count": null,
   "metadata": {},
   "outputs": [],
   "source": [
    "# Subgraph\n",
    "subgraph_node1 = G.subgraph(['Node 1'] + list(G.neighbors('Node 1')))\n",
    "nx.draw_spring(G, with_labels=True)\n",
    "nx.draw_circular(G, with_labels=True)"
   ]
  },
  {
   "cell_type": "code",
   "execution_count": null,
   "metadata": {},
   "outputs": [],
   "source": [
    "# Compute degrees and see importance\n",
    "degrees = dict(G.degree(G.nodes()))\n",
    "sorted_degree = sorted(degrees.items(), key=itemgetter(1), reverse=True)\n",
    "\n",
    "# And the top 5 most popular quakers are.. \n",
    "for nodeName, degree in sorted_degree[:5]:\n",
    "    print(nodeName, 'who is', G.node[nondeName]['Role'], 'knows', degree, 'people')"
   ]
  },
  {
   "cell_type": "code",
   "execution_count": null,
   "metadata": {},
   "outputs": [],
   "source": [
    "# Degree Distribution Scatter plot\n",
    "degree_seq = [d[1] for d in sorted_degree]\n",
    "degreeCount = collections.Counter(degree_seq)\n",
    "degreeCount = pd.DataFrame.from_dict( degreeCount, orient='index').reset_index()\n",
    "fig = plt.figure()\n",
    "ax = plt.gca()\n",
    "ax.plot(degreeCount['index'], degreeCount[0], 'o', c='blue', markersize= 4)\n",
    "plt.ylabel('Frequency')\n",
    "plt.xlabel('Degree')\n",
    "plt.title('Degree distribution for the Quaker network')"
   ]
  },
  {
   "cell_type": "code",
   "execution_count": null,
   "metadata": {},
   "outputs": [],
   "source": [
    "# Degree of Centrality Katz\n",
    "degrees = dict(G.degree(G.nodes()))\n",
    "\n",
    "katz = nx.katz_centrality(G)\n",
    "nx.set_node_attributes(G, katz, 'katz')\n",
    "sorted_katz = sorted(katz.items(), key=itemgetter(1), reverse=True)\n",
    "\n",
    "# And the top 5 most popular quakers are.. \n",
    "for nodeName, katzc in sorted_katz[:5]:\n",
    "    print(nodeName, 'who is', G.node[nodeName]['Role'], 'has katz-centrality: %.3f' %katzc)"
   ]
  },
  {
   "cell_type": "code",
   "execution_count": null,
   "metadata": {},
   "outputs": [],
   "source": [
    "# Compute betweenness centrality\n",
    "betweenness = nx.betweenness_centrality(G)\n",
    "# Assign the computed centrality values as a node-attribute in your network\n",
    "nx.set_node_attributes(G, betweenness, 'betweenness')\n",
    "sorted_betweenness = sorted(betweenness.items(), key=itemgetter(1), reverse=True)\n",
    "\n",
    "for nodeName, bw in sorted_betweenness[:5]:\n",
    "    print(nodeName, 'who is', G.node[nodeName]['Role'], 'has betweeness: %.3f' %bw)\n",
    "    \n"
   ]
  },
  {
   "cell_type": "code",
   "execution_count": null,
   "metadata": {},
   "outputs": [],
   "source": [
    "# Degree centrality heatmap\n",
    "# similar pattern\n",
    "list_nodes =list(G.nodes())\n",
    "list_nodes.reverse()   # for showing the nodes with high betweeness centrality \n",
    "pos = nx.spring_layout(G)\n",
    "ec = nx.draw_networkx_edges(G, pos, alpha=0.1)\n",
    "nc = nx.draw_networkx_nodes(G, pos, nodelist=list_nodes, \n",
    "                            node_color=[G.nodes[n][\"betweenness\"] for n in list_nodes], \n",
    "                            with_labels=False, alpha=0.8, node_shape = '.')\n",
    "plt.colorbar(nc)\n",
    "plt.axis('off')\n",
    "plt.show()"
   ]
  },
  {
   "cell_type": "markdown",
   "metadata": {},
   "source": [
    "### Communities"
   ]
  },
  {
   "cell_type": "code",
   "execution_count": null,
   "metadata": {},
   "outputs": [],
   "source": [
    "# Girvan Newman\n",
    "comp = girvan_newman(G)\n",
    "it = 0\n",
    "for communities in itertools.islice(comp, 4):\n",
    "    it +=1\n",
    "    print('Iteration', it)\n",
    "    print(tuple(sorted(c) for c in communities)) "
   ]
  },
  {
   "cell_type": "code",
   "execution_count": null,
   "metadata": {},
   "outputs": [],
   "source": [
    "# Louvain\n",
    "partition = community_louvain.best_partition(G)\n",
    "# add it as an attribute to the nodes\n",
    "for n in G.nodes:\n",
    "    G.nodes[n][\"louvain\"] = partition[n]"
   ]
  },
  {
   "cell_type": "code",
   "execution_count": null,
   "metadata": {},
   "outputs": [],
   "source": [
    "pos = nx.spring_layout(G, k=0.2)\n",
    "ec = nx.draw_networkx_edges(G, pos, alpha=0.2)\n",
    "nc = nx.draw_networkx_nodes(G, pos, nodelist=G.nodes(), \n",
    "                            node_color=[G.nodes[n][\"louvain\"] for n in G.nodes], \n",
    "                            with_labels=False, node_size=100, cmap=plt.cm.jet)\n",
    "plt.axis('off')\n",
    "plt.show()"
   ]
  },
  {
   "cell_type": "code",
   "execution_count": null,
   "metadata": {},
   "outputs": [],
   "source": [
    "clusterNode = partition['Node']\n",
    "# Take all the nodes that belong to James' cluster\n",
    "members_c = [q for q in G.nodes if partition[q] == clusterNode]\n",
    "# get info about these quakers\n",
    "for nodeName in members_c:\n",
    "    print(nodeName, 'who is', G.node[nodeName]['Role'], 'and died in ',\n",
    "          G.node[quaker]['Deathdate'])"
   ]
  },
  {
   "cell_type": "code",
   "execution_count": null,
   "metadata": {},
   "outputs": [],
   "source": [
    "# Homophily\n",
    "# for categorical attributes\n",
    "nx.attribute_assortativity_coefficient(G, 'Gender')"
   ]
  },
  {
   "cell_type": "code",
   "execution_count": null,
   "metadata": {},
   "outputs": [],
   "source": [
    "nodes.groupby('Gender').size()"
   ]
  },
  {
   "cell_type": "code",
   "execution_count": null,
   "metadata": {},
   "outputs": [],
   "source": [
    "# Check if edge\n",
    "G.has_edge(a, b)"
   ]
  },
  {
   "cell_type": "markdown",
   "metadata": {},
   "source": [
    "Digraph API\n",
    "DiGraph.has_edge(u, v)\n",
    "https://networkx.github.io/documentation/networkx-1.10/reference/classes.digraph.html"
   ]
  }
 ],
 "metadata": {
  "kernelspec": {
   "display_name": "Python 3.10.8 ('ada')",
   "language": "python",
   "name": "python3"
  },
  "language_info": {
   "codemirror_mode": {
    "name": "ipython",
    "version": 3
   },
   "file_extension": ".py",
   "mimetype": "text/x-python",
   "name": "python",
   "nbconvert_exporter": "python",
   "pygments_lexer": "ipython3",
   "version": "3.10.8 (main, Nov  4 2022, 08:45:25) [Clang 12.0.0 ]"
  },
  "orig_nbformat": 4,
  "vscode": {
   "interpreter": {
    "hash": "10d059aaca96fc9c3493bab5d1c0141ba04039945f551b22f762be411355277a"
   }
  }
 },
 "nbformat": 4,
 "nbformat_minor": 2
}
