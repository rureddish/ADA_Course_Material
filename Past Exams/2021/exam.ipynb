{
 "cells": [
  {
   "cell_type": "markdown",
   "metadata": {},
   "source": [
    "# ADA final exam (Fall 2021)\n",
    "\n",
    "This exam consists of 2 parts.\n",
    "The first part has 3 tasks.\n",
    "The second part has 2 tasks.\n",
    "The two parts are completely independent of each other.\n",
    "\n",
    "## Important: The data used for this exam **is not entirely real.** A great deal of it has been artificially created or modified. Conclusions drawn from this data have no real link to reality!"
   ]
  },
  {
   "cell_type": "code",
   "execution_count": 1,
   "metadata": {
    "pycharm": {
     "name": "#%%\n"
    }
   },
   "outputs": [],
   "source": [
    "%matplotlib inline\n",
    "\n",
    "# General\n",
    "import pandas as pd\n",
    "import numpy as np\n",
    "\n",
    "# For plotting\n",
    "import matplotlib.pyplot as plt\n",
    "import seaborn as sns\n",
    "\n",
    "# For graph-related stuff\n",
    "import networkx as nx\n",
    "\n",
    "# For regression analyses and statistical tests\n",
    "import scipy.stats as stats\n",
    "import statsmodels.stats\n",
    "import statsmodels.formula.api as smf\n",
    "\n",
    "# For classification\n",
    "from sklearn import linear_model as lm\n",
    "from sklearn.model_selection import train_test_split\n",
    "from sklearn.metrics import accuracy_score"
   ]
  },
  {
   "cell_type": "markdown",
   "metadata": {},
   "source": [
    "\n",
    "## Part 1 — Faculty hiring network\n",
    "\n",
    "For the first part of the exam, you will analyze data from a faculty hiring network. After completing their Ph.D., researchers who want to pursue an academic career must compete for relatively few permanent positions (as “faculty”, i.e., professors) in a highly competitive job market. You will analyze a directed graph that captures the dynamics of this hiring process in the United States:\n",
    "\n",
    "\n",
    "- Each node $u$ in this graph represents a different American university.\n",
    "- For each university, we also provide a score that captures how highly  this university is ranked (e.g., Stanford University is ranked more highly than the University of Alabama). The higher the score, the more highly ranked the university.\n",
    "- Each directed edge $(u,v)$ in this graph represents a hiring decision where someone who did their Ph.D. at university $u$ subsequently was hired by university $v$. Each edge is also associated with a gender label, which specifies if the person hired was a man (M) or a woman (F).\n",
    "- Note that, when multiple researchers were trained at a given university $u$ and subsequently hired by university $v$, there will be multiple edges pointing from $u$ to $v$, each of which corresponds to a different person.\n",
    "\n",
    "\n",
    "## Files (in the `./data/part-1/` folder)\n",
    "\n",
    "- `nodelist.tsv` a tab-separated file containing the nodes of the graph. Recall that each node represents a different university. The file has these columns:\n",
    "    - `u` — the node index;\n",
    "    - `score` — the rank of the university (the higher the better);\n",
    "    - `name` — the name of the university.\n",
    "\n",
    "- `edgelist.tsv` a tab-separated file containing the edges of the graph. Recall that each edge represents a hiring decision. The file has columns:\n",
    "    - `u` — the source university, where the person got their Ph.D.;\n",
    "    - `v` — the target university, where the person was hired;\n",
    "    - `gender` — the gender of the person.\n",
    "\n",
    "\n",
    "### Task 1 — (20 points)\n",
    "\n",
    "1. Using the above files, create the directed graph representing the hiring network using `networkx`.\n",
    "Each node should contain the attributes `score` and `name`, and each edge should contain the attribute `gender`.\n",
    "Print the total numbers of nodes and edges in the graph.\n",
    "\n",
    "2. Create a plot that allows you to easily visualize **(a)** what fraction of all researchers in the graph are hired by the $N$ universities that hire the most; and  **(b)** what fraction of all researchers in the graph are trained by the $N$ universities whose students get hired the most.\n",
    "Here, $N$ could be any number between 1 and the number of universities.\n",
    "\n",
    "3. **/Multiple choice:/** Which centrality metric(s) is/are illustrated in the plot you made for the previous subtask? Select all that apply from the list below and **justify your answer.**\n",
    "    1. Betweenness centrality\n",
    "    2. In-degree centrality\n",
    "    3. Out-degree centrality\n",
    "    4. PageRank centrality\n",
    "\n",
    "4. **/True or false:/** Search engines such as Google have historically used PageRank centrality as a signal to determine the importance of pages on the Web. Is the following statement **true** or **false**? Justify. **\"In the faculty hiring network, PageRank centrality is positively correlated with university score, that is, universities with higher scores are more likely to also have higher PageRank centrality.\"**\n"
   ]
  },
  {
   "cell_type": "code",
   "execution_count": 34,
   "metadata": {},
   "outputs": [],
   "source": [
    "nodes = pd.read_csv(\"./data/part-1/nodelist.tsv\", sep=\"\\t\", compression=\"infer\")\n",
    "edges = pd.read_csv(\"./data/part-1/edgelist.tsv\", sep=\"\\t\", compression=\"infer\")"
   ]
  },
  {
   "cell_type": "code",
   "execution_count": 35,
   "metadata": {},
   "outputs": [
    {
     "data": {
      "text/html": [
       "<div>\n",
       "<style scoped>\n",
       "    .dataframe tbody tr th:only-of-type {\n",
       "        vertical-align: middle;\n",
       "    }\n",
       "\n",
       "    .dataframe tbody tr th {\n",
       "        vertical-align: top;\n",
       "    }\n",
       "\n",
       "    .dataframe thead th {\n",
       "        text-align: right;\n",
       "    }\n",
       "</style>\n",
       "<table border=\"1\" class=\"dataframe\">\n",
       "  <thead>\n",
       "    <tr style=\"text-align: right;\">\n",
       "      <th></th>\n",
       "      <th>u</th>\n",
       "      <th>score</th>\n",
       "      <th>name</th>\n",
       "    </tr>\n",
       "  </thead>\n",
       "  <tbody>\n",
       "    <tr>\n",
       "      <th>0</th>\n",
       "      <td>1</td>\n",
       "      <td>100.000000</td>\n",
       "      <td>Stanford University</td>\n",
       "    </tr>\n",
       "    <tr>\n",
       "      <th>1</th>\n",
       "      <td>2</td>\n",
       "      <td>99.956665</td>\n",
       "      <td>UC Berkeley</td>\n",
       "    </tr>\n",
       "    <tr>\n",
       "      <th>2</th>\n",
       "      <td>3</td>\n",
       "      <td>99.301230</td>\n",
       "      <td>MIT</td>\n",
       "    </tr>\n",
       "    <tr>\n",
       "      <th>3</th>\n",
       "      <td>4</td>\n",
       "      <td>98.369536</td>\n",
       "      <td>California Institute of Technology</td>\n",
       "    </tr>\n",
       "    <tr>\n",
       "      <th>4</th>\n",
       "      <td>5</td>\n",
       "      <td>97.892855</td>\n",
       "      <td>Harvard University</td>\n",
       "    </tr>\n",
       "    <tr>\n",
       "      <th>...</th>\n",
       "      <td>...</td>\n",
       "      <td>...</td>\n",
       "      <td>...</td>\n",
       "    </tr>\n",
       "    <tr>\n",
       "      <th>200</th>\n",
       "      <td>201</td>\n",
       "      <td>2.535074</td>\n",
       "      <td>Pace University</td>\n",
       "    </tr>\n",
       "    <tr>\n",
       "      <th>201</th>\n",
       "      <td>202</td>\n",
       "      <td>2.470072</td>\n",
       "      <td>New Mexico Institute of Mining and Technology</td>\n",
       "    </tr>\n",
       "    <tr>\n",
       "      <th>202</th>\n",
       "      <td>203</td>\n",
       "      <td>2.367152</td>\n",
       "      <td>University of Nevada, Reno</td>\n",
       "    </tr>\n",
       "    <tr>\n",
       "      <th>203</th>\n",
       "      <td>204</td>\n",
       "      <td>0.016250</td>\n",
       "      <td>University of Alabama, Tuscaloosa</td>\n",
       "    </tr>\n",
       "    <tr>\n",
       "      <th>204</th>\n",
       "      <td>205</td>\n",
       "      <td>0.000000</td>\n",
       "      <td>University of North Texas, Denton</td>\n",
       "    </tr>\n",
       "  </tbody>\n",
       "</table>\n",
       "<p>205 rows × 3 columns</p>\n",
       "</div>"
      ],
      "text/plain": [
       "       u       score                                           name\n",
       "0      1  100.000000                            Stanford University\n",
       "1      2   99.956665                                    UC Berkeley\n",
       "2      3   99.301230                                            MIT\n",
       "3      4   98.369536             California Institute of Technology\n",
       "4      5   97.892855                             Harvard University\n",
       "..   ...         ...                                            ...\n",
       "200  201    2.535074                                Pace University\n",
       "201  202    2.470072  New Mexico Institute of Mining and Technology\n",
       "202  203    2.367152                     University of Nevada, Reno\n",
       "203  204    0.016250              University of Alabama, Tuscaloosa\n",
       "204  205    0.000000              University of North Texas, Denton\n",
       "\n",
       "[205 rows x 3 columns]"
      ]
     },
     "execution_count": 35,
     "metadata": {},
     "output_type": "execute_result"
    }
   ],
   "source": [
    "nodes"
   ]
  },
  {
   "cell_type": "code",
   "execution_count": 36,
   "metadata": {},
   "outputs": [
    {
     "data": {
      "text/html": [
       "<div>\n",
       "<style scoped>\n",
       "    .dataframe tbody tr th:only-of-type {\n",
       "        vertical-align: middle;\n",
       "    }\n",
       "\n",
       "    .dataframe tbody tr th {\n",
       "        vertical-align: top;\n",
       "    }\n",
       "\n",
       "    .dataframe thead th {\n",
       "        text-align: right;\n",
       "    }\n",
       "</style>\n",
       "<table border=\"1\" class=\"dataframe\">\n",
       "  <thead>\n",
       "    <tr style=\"text-align: right;\">\n",
       "      <th></th>\n",
       "      <th>u</th>\n",
       "      <th>v</th>\n",
       "      <th>gender</th>\n",
       "    </tr>\n",
       "  </thead>\n",
       "  <tbody>\n",
       "    <tr>\n",
       "      <th>0</th>\n",
       "      <td>1</td>\n",
       "      <td>1</td>\n",
       "      <td>F</td>\n",
       "    </tr>\n",
       "    <tr>\n",
       "      <th>1</th>\n",
       "      <td>1</td>\n",
       "      <td>1</td>\n",
       "      <td>F</td>\n",
       "    </tr>\n",
       "    <tr>\n",
       "      <th>2</th>\n",
       "      <td>1</td>\n",
       "      <td>1</td>\n",
       "      <td>F</td>\n",
       "    </tr>\n",
       "    <tr>\n",
       "      <th>3</th>\n",
       "      <td>1</td>\n",
       "      <td>1</td>\n",
       "      <td>M</td>\n",
       "    </tr>\n",
       "    <tr>\n",
       "      <th>4</th>\n",
       "      <td>1</td>\n",
       "      <td>1</td>\n",
       "      <td>M</td>\n",
       "    </tr>\n",
       "    <tr>\n",
       "      <th>...</th>\n",
       "      <td>...</td>\n",
       "      <td>...</td>\n",
       "      <td>...</td>\n",
       "    </tr>\n",
       "    <tr>\n",
       "      <th>4383</th>\n",
       "      <td>194</td>\n",
       "      <td>194</td>\n",
       "      <td>M</td>\n",
       "    </tr>\n",
       "    <tr>\n",
       "      <th>4384</th>\n",
       "      <td>198</td>\n",
       "      <td>198</td>\n",
       "      <td>M</td>\n",
       "    </tr>\n",
       "    <tr>\n",
       "      <th>4385</th>\n",
       "      <td>200</td>\n",
       "      <td>200</td>\n",
       "      <td>F</td>\n",
       "    </tr>\n",
       "    <tr>\n",
       "      <th>4386</th>\n",
       "      <td>204</td>\n",
       "      <td>204</td>\n",
       "      <td>M</td>\n",
       "    </tr>\n",
       "    <tr>\n",
       "      <th>4387</th>\n",
       "      <td>204</td>\n",
       "      <td>204</td>\n",
       "      <td>M</td>\n",
       "    </tr>\n",
       "  </tbody>\n",
       "</table>\n",
       "<p>4388 rows × 3 columns</p>\n",
       "</div>"
      ],
      "text/plain": [
       "        u    v gender\n",
       "0       1    1      F\n",
       "1       1    1      F\n",
       "2       1    1      F\n",
       "3       1    1      M\n",
       "4       1    1      M\n",
       "...   ...  ...    ...\n",
       "4383  194  194      M\n",
       "4384  198  198      M\n",
       "4385  200  200      F\n",
       "4386  204  204      M\n",
       "4387  204  204      M\n",
       "\n",
       "[4388 rows x 3 columns]"
      ]
     },
     "execution_count": 36,
     "metadata": {},
     "output_type": "execute_result"
    }
   ],
   "source": [
    "edges"
   ]
  },
  {
   "cell_type": "code",
   "execution_count": 37,
   "metadata": {
    "pycharm": {
     "name": "#%%\n"
    }
   },
   "outputs": [],
   "source": [
    "G = nx.from_pandas_edgelist(edges, 'u', 'v', \n",
    "                                  edge_attr=None, create_using = nx.MultiDiGraph())\n",
    "\n",
    "nx.set_node_attributes(G, nodes['score'].to_dict(), 'score' )\n",
    "nx.set_node_attributes(G, nodes['name'].to_dict(), 'name' )"
   ]
  },
  {
   "cell_type": "code",
   "execution_count": 38,
   "metadata": {},
   "outputs": [],
   "source": [
    "# Graph properties\n",
    "def describe_graph(G):\n",
    "    print(nx.info(G))\n",
    "    if nx.is_connected(G):\n",
    "        print(\"Avg. Shortest Path Length: %.4f\" %nx.average_shortest_path_length(G))\n",
    "        print(\"Diameter: %.4f\" %nx.diameter(G)) # Longest shortest path\n",
    "    else:\n",
    "        print(\"Graph is not connected\")\n",
    "        print(\"Diameter and Avg shortest path length are not defined!\")\n",
    "    print(\"Sparsity: %.4f\" %nx.density(G))  # #edges/#edges-complete-graph\n",
    "    # #closed-triplets(3*#triangles)/#all-triplets\n",
    "    print(\"Global clustering coefficient aka Transitivity: %.4f\" %nx.transitivity(G))"
   ]
  },
  {
   "cell_type": "code",
   "execution_count": 41,
   "metadata": {},
   "outputs": [
    {
     "name": "stdout",
     "output_type": "stream",
     "text": [
      "DiGraph with 205 nodes and 2881 edges\n"
     ]
    },
    {
     "name": "stderr",
     "output_type": "stream",
     "text": [
      "/var/folders/rm/7_ymgfb97mbb78p4rhq92vww0000gn/T/ipykernel_95648/2606185536.py:1: DeprecationWarning: info is deprecated and will be removed in version 3.0.\n",
      "\n",
      "  print(nx.info(G))\n"
     ]
    }
   ],
   "source": [
    "print(nx.info(G))"
   ]
  },
  {
   "cell_type": "code",
   "execution_count": 44,
   "metadata": {},
   "outputs": [
    {
     "name": "stdout",
     "output_type": "stream",
     "text": [
      "Sparsity: 0.0689\n"
     ]
    }
   ],
   "source": [
    "print(\"Sparsity: %.4f\" %nx.density(G))  # #edges/#edges-complete-graph\n"
   ]
  },
  {
   "cell_type": "markdown",
   "metadata": {},
   "source": [
    "### Task 2 — (15 points)\n",
    "\n",
    "Each hiring decision $(u,v)$ connects two different universities with different scores.\n",
    "\n",
    "1. Divide the universities into quintiles according to their scores ($Q_1$ to $Q_5$, where $Q_5$ contains the highest-ranked universities, i.e., those with the highest scores). Create a succinct plot that captures, for each pair of quintiles ($Q_i$, $Q_j$), what fraction of people in the dataset who got their Ph.D. from a university in $Q_i$ were hired by a university in $Q_j$.\n",
    "\n",
    "\n",
    "2. **/Multiple choice:/** What does the plot made in the previous subtask reveal about the faculty hiring process? Select one of the following options and justify your answer.\n",
    "    1. Ph.D. graduates who are hired as professors usually go to universities that are better than the universities where they were trained.\n",
    "    2. Ph.D. graduates who are hired as professors usually go to universities that are around the same or worse than the universities where they were trained.\n",
    "\n",
    "3. **/True or false:/** Let $E$ be the set of edges from the hiring network, and let $X$ be defined as follows:\n",
    "$$X = \\frac{|(u,v) \\in E : u \\in Q_1 \\text{ and } v \\in Q_5 |}{{|(u,v) \\in E : u \\in Q_1|}}$$\n",
    " *Thinking critically about the data that was given to you,* is the following statement **true** or **false**? Justify your answer. **\"If I get my Ph.D. in a 1st-quintile university, I have a chance of around X * 100%  of getting a job in a 5th-quintile university.\"**\n",
    "\n",
    "\n",
    "---\n",
    "**Hints:**\n",
    "- [pandas.qcut](https://pandas.pydata.org/docs/reference/api/pandas.qcut.html) makes splitting data into quantiles easy!\n"
   ]
  },
  {
   "cell_type": "code",
   "execution_count": null,
   "metadata": {
    "pycharm": {
     "name": "#%%\n"
    }
   },
   "outputs": [],
   "source": []
  },
  {
   "cell_type": "markdown",
   "metadata": {},
   "source": [
    "### Task 3 — (25 points)\n",
    "\n",
    "Let the \"source university\" of a person be the university at which the person got their Ph.D., and let their \"target university\" be the university at which they were hired after their Ph.D.\n",
    "\n",
    "\n",
    "1. For each hiring decision $(u, v)$, let the score gain ($d$) be defined as the difference between the scores of the target university and the source university (target university score minus source university score; see hint for example). Calculate the average difference for men ($\\bar{d_{M}}$) and for women ($\\bar{d_{F}}$) in the dataset. Determine whether the difference between these two averages ($\\bar{d_{M}}$ and $\\bar{d_{F}}$) is statistically significant.\n",
    "\n",
    "2. **/True or false:/** Is the following statement **true** or **false**? Justify your answer. **\"The results you obtained in Task 3.1 do not refute the hypothesis that women are disadvantaged in the faculty hiring process.\"**\n",
    "\n",
    "3. For each quintile $Q$ from Task 2.1, calculate the following: **(a)** the percentage of women among hiring decisions $(u, v)$ with $u \\in Q$ ; and **b)** the average score gain for hiring decisions $(u, v)$ with $u \\in Q$.\n",
    "\n",
    "4. **/Discuss:/** Considering the results obtained in Task 3.3, why is comparing the average score gain for men ($\\bar{d_{M}}$) and women ($\\bar{d_{F}}$) insufficient for determining the causal effect of gender on score gain?\n",
    "\n",
    "5. Use `statsmodels` to run a linear regression where hiring decisions (edges of the hiring network) are the data points, gender and source-university score are the predictors, and score gain is the outcome. Report the summary of your model.\n",
    "\n",
    "6. **/True or false:/** Considering the following statement, answer **true** or **false** and justify your answer. **\"The results you obtained in Task 3.5 suggest that academic hiring decisions are unfair to women.\"**\n",
    "\n",
    "---\n",
    "**Hint** — The university with the best score is Stanford University (score 100), and the university with the 10th best score is the University of Washington (score 95.26). If someone was trained at Stanford and then got a job at the University of Washington, their score gain is $95.26 - 100 = -4.74$."
   ]
  },
  {
   "cell_type": "code",
   "execution_count": null,
   "metadata": {
    "pycharm": {
     "name": "#%%\n"
    }
   },
   "outputs": [],
   "source": []
  },
  {
   "cell_type": "markdown",
   "metadata": {},
   "source": [
    "## Part 2 — Tennis interviews\n",
    "\n",
    "For the second part of the exam, you will work with text data extracted from questions asked during post-match tennis interviews and from\n",
    "TV commentary done during the tennis match.\n",
    "\n",
    "\n",
    "Examples of interview questions:\n",
    "\n",
    "> That last set seemed like a faultless performance. Is that the way you saw it?\n",
    "\n",
    "> How disappointing is that loss for you?\n",
    "\n",
    "> As a spectator, would you rather watch a guy with big aces or a match with lots of rallies?\n",
    "\n",
    "Example of commentary text:\n",
    "\n",
    ">  Serena is desperate to shake herself into action. She lets out an almighty shriek when she goes 30-15 up, but Azarenka responds with a brilliant forehand. The level of Williams' scream goes up and up during the next point, and she lets out another roar when she belts a forehand cross court win the point. She wraps the game up next time round, and she looked something like back to her best there!\n",
    "\n",
    "\n",
    "## Files (in the `data` folder)\n",
    "\n",
    "- `questions.tsv.gz` a tab-separated compressed file containing interview questions\n",
    "and some metadata. We refer to this dataset as the \"questions dataset.\"\n",
    "Each row contains a question made to a specific player after a match.\n",
    "The file has the following columns:\n",
    "    - `questions` — the text of the question asked; **Note that you will never be asked to use this row; it is merely meant to help you understand the data better**.\n",
    "    - `gender` — the gender of the player;\n",
    "    - `ranking` — the ranking of the player at the time;\n",
    "    - `similarity` — this column will be explained later in the exam.\n",
    "\n",
    "- `commentary.tsv.gz` a tab-separated compressed file containing TV commentary done during\n",
    "the tennis match. We refer to this dataset as the \"commentary dataset.\" Each line contains\n",
    "a piece of commentary done in a tennis match.\n",
    "The file has the following columns:\n",
    "    - `commentary` — the text of the commentary; **Note that you will never be asked to use this row; it is merely meant to help you understand the data better**.\n",
    "    - `gender` — the gender of the players in the match;\n",
    "\n",
    "- `TFIDF.npz`, a file containing 2D numpy arrays saved in the `.npz` format that\n",
    "will be used in Task 4.\n",
    "\n",
    "Both datasets are **balanced regarding gender,** i.e., they have the same number of rows about men as about women.\n",
    "\n",
    "\n",
    "Commentary text, as well as interview questions, have been preprocessed to make your life easier, as follows:\n",
    "\n",
    "- We replaced all words starting with upper-case letters with the special string `'--ENT--'`. This was done to remove personal names (e.g., Alice, Bob), which could help predict whether the text is associated with a male or a female tennis player.\n",
    "- We removed the first word in each sentence. This was done because, for the first word of each sentence, it is difficult to know whether it is a personal name or simply a regular word.\n",
    "- We replaced all gendered pronouns in the text (he/him/his and she/her/hers) with the special string `'--PRON--'`. This, too, was done because these words would make it easy to predict whether the text is associated with a male or a female tennis player.\n",
    "- We removed punctuation and stop words (to reduce the dimensionality of the data).\n",
    "\n",
    "The above example commentary text thus appears as follows in the data provided to you:\n",
    "\n",
    "> desperate shake action lets almighty shriek --PRON-- goes 30 15 --ENT-- responds brilliant forehand level --ENT-- scream goes point --PRON-- lets roar --PRON-- belts forehand cross court win point wraps game time round --PRON-- looked like --PRON-- best\n",
    "\n",
    "We also provide some code for loading and displaying the dataset:"
   ]
  },
  {
   "cell_type": "code",
   "execution_count": 3,
   "metadata": {
    "pycharm": {
     "name": "#%%\n"
    }
   },
   "outputs": [],
   "source": [
    "#  Part 2 ! PROVIDED CODE !\n",
    "\n",
    "questions = pd.read_csv(\"./data/part-2/questions.tsv.gz\", sep=\"\\t\", compression=\"infer\")\n",
    "commentary = pd.read_csv(\"./data/part-2/commentary.tsv.gz\", sep=\"\\t\", compression=\"infer\")\n"
   ]
  },
  {
   "cell_type": "code",
   "execution_count": null,
   "metadata": {
    "pycharm": {
     "name": "#%%\n"
    }
   },
   "outputs": [],
   "source": []
  },
  {
   "cell_type": "markdown",
   "metadata": {},
   "source": [
    "### Task 4  (20 points)\n",
    "\n",
    "Your goal now is to investigate whether there is gender bias in the questions being asked to female vs. male players, i.e., whether men vs. women are asked different questions on average. You start your analysis with a classification framing.\n",
    "\n",
    "\n",
    "To make your life easier, we already provided a TF-IDF matrix for each dataset (`commentary.tsv.gz` and `questions.tsv.gz`) and with code to load these matrices (which are numpy arrays).\n",
    "\n",
    "- Each row in each matrix $M$ corresponds to a row in the corresponding dataframe, i.e., each row corresponds to a different question or a different piece of TV commentary.\n",
    "- Each column in each matrix corresponds to a different word from the vocabulary.\n",
    "- Each position $(i,j)$ in the matrix contains the TF-IDF score for word $j$ from the vocabulary in question or commentary $i$. That is, each term $M[i,j]$ corresponds to the term frequency (TF) of word $j$ in text $i$, multiplied by the inverse document frequency (IDF) of word $j$:\n",
    "\n",
    "\n",
    "$$M[i,j] = \\text{TF}(i,j) * \\text{IDF}(j)$$\n",
    "\n",
    "\n",
    "1. **/Multiple Choice:/** Which of the following is the correct way to calculate the term frequency and the inverse document frequency? Justify your answer, explaining what each of the two components should capture.\n",
    "    - Option A:\n",
    "\n",
    "    $$\\text{TF}(i,j) = \\text{number of times the $j$-th word occurs in all documents} $$\n",
    "\n",
    "    $$\\text{IDF}(j) =  \\log \\frac{\\text{number of documents the $j$-th word occurs in}}{\\text{number of documents}}$$\n",
    "\n",
    "    - Option B:\n",
    "\n",
    "    $$ \\text{TF}(i,j) = \\text{number of times the $j$-th word occurs in the $i$-th document} $$\n",
    "\n",
    "    $$\\text{IDF}(j) =  \\log \\frac{\\text{number of documents the $j$-th word occurs in}}{\\text{number of documents}}$$\n",
    "\n",
    "    - Option C:\n",
    "\n",
    "    $$ \\text{TF}(i,j) = \\text{number of times the $j$-th word occurs in all documents} $$\n",
    "\n",
    "    $$\\text{IDF}(j) =  \\log \\frac{\\text{number of documents}}{\\text{number of documents the $j$-th word occurs in}}$$\n",
    "\n",
    "    - Option D:\n",
    "\n",
    "    $$ \\text{TF}(i,j) = \\text{number of times the $j$-th word occurs in the $i$-th document} $$\n",
    "\n",
    "    $$\\text{IDF}(j) =  \\log \\frac{\\text{number of documents}}{\\text{number of documents the $j$-th word occurs in}}$$\n",
    "\n",
    "\n",
    "\n",
    "2. Leveraging the matrices described above, train two logistic regression classifiers (one for interview questions, the other for TV commentary) that use the TF-IDF vectors as features to predict the gender of the athletes. You should split each dataset into training and test sets using sklearn (see [sklearn.model_selection.train_test_split](https://scikit-learn.org/stable/modules/generated/sklearn.model_selection.train_test_split.html)) using parameters `test_size=0.4` and `random_state=42`. You should use sklearn's logistic regression model (see [here](https://scikit-learn.org/stable/modules/generated/sklearn.linear_model.LogisticRegression.html#sklearn.linear_model.LogisticRegression)) using parameters `C=10` (which controls regularization) and `max_iter=2000`. For each dataset, train the model on the training set (with 60% of the data) and report the accuracy on the test set (with 40% of the data).\n",
    "\n",
    "3. **/True or false:/** Considering the following statement, answer **true** or **false** and justify your answer. **\"Based on the outcome of Task 4.2, the text from tennis commentary text is more gender-biased than post-match questions.\"**\n",
    "\n",
    "4. The parameter `C` above controls a regularization penalty. The lower `C`, the stronger the regularization penalty (caveat: sklearn’s convention is the reverse of the convention you saw in class, where a *higher* $\\lambda$ parameter meant a stronger regularization penalty ). For the questions dataset, re-run the classification task using the same setup as in Task 4.2, but now with `C=2000`. Report the accuracy.\n",
    "\n",
    "5. **/Discuss:/** Explain why increasing `C` changed the results.\n"
   ]
  },
  {
   "cell_type": "code",
   "execution_count": 2,
   "metadata": {
    "pycharm": {
     "name": "#%%\n"
    }
   },
   "outputs": [
    {
     "data": {
      "text/plain": [
       "array([[0.60373585, 0.        , 0.        , ..., 0.        , 0.        ,\n",
       "        0.        ],\n",
       "       [0.        , 0.        , 0.        , ..., 0.        , 0.        ,\n",
       "        0.        ],\n",
       "       [0.        , 0.        , 0.        , ..., 0.        , 0.        ,\n",
       "        0.19567434],\n",
       "       ...,\n",
       "       [0.        , 0.        , 0.        , ..., 0.        , 0.        ,\n",
       "        0.        ],\n",
       "       [0.        , 0.        , 0.13978562, ..., 0.        , 0.        ,\n",
       "        0.        ],\n",
       "       [0.59027928, 0.        , 0.        , ..., 0.        , 0.        ,\n",
       "        0.        ]])"
      ]
     },
     "execution_count": 2,
     "metadata": {},
     "output_type": "execute_result"
    }
   ],
   "source": [
    "# 4.2 ! PROVIDED CODE !\n",
    "tmp = np.load(\"./data/part-2/TFIDF.npz\")\n",
    "TFIDF_commentary = tmp['commentary']\n",
    "TFIDF_questions = tmp['questions']\n",
    "\n",
    "TFIDF_questions"
   ]
  },
  {
   "cell_type": "code",
   "execution_count": null,
   "metadata": {
    "pycharm": {
     "name": "#%%\n"
    }
   },
   "outputs": [],
   "source": []
  },
  {
   "attachments": {},
   "cell_type": "markdown",
   "metadata": {},
   "source": [
    "### Task 5 — (20 pts)\n",
    "\n",
    "You will now further inspect whether there is gender bias in the interview questions using an observational study framing. For this task, you will use the column `similarity` provided in the questions dataframe. This column captures how similar each question is to tennis-related text, i.e., a higher score indicates that the question is more about the topic of tennis. In contrast, a lower score means that the question may be personal or about other subjects."
   ]
  },
  {
   "attachments": {},
   "cell_type": "markdown",
   "metadata": {},
   "source": [
    "1. Using `statsmodels`, run a linear regression with `similarity` as the outcome and `gender` as the predictor. Report the summary of your model."
   ]
  },
  {
   "cell_type": "code",
   "execution_count": 4,
   "metadata": {
    "pycharm": {
     "name": "#%%\n"
    }
   },
   "outputs": [
    {
     "data": {
      "text/html": [
       "<div>\n",
       "<style scoped>\n",
       "    .dataframe tbody tr th:only-of-type {\n",
       "        vertical-align: middle;\n",
       "    }\n",
       "\n",
       "    .dataframe tbody tr th {\n",
       "        vertical-align: top;\n",
       "    }\n",
       "\n",
       "    .dataframe thead th {\n",
       "        text-align: right;\n",
       "    }\n",
       "</style>\n",
       "<table border=\"1\" class=\"dataframe\">\n",
       "  <thead>\n",
       "    <tr style=\"text-align: right;\">\n",
       "      <th></th>\n",
       "      <th>questions</th>\n",
       "      <th>ranking</th>\n",
       "      <th>similarity</th>\n",
       "      <th>gender</th>\n",
       "    </tr>\n",
       "  </thead>\n",
       "  <tbody>\n",
       "    <tr>\n",
       "      <th>0</th>\n",
       "      <td>successful --ENT-- today year</td>\n",
       "      <td>366</td>\n",
       "      <td>0.431568</td>\n",
       "      <td>F</td>\n",
       "    </tr>\n",
       "    <tr>\n",
       "      <th>1</th>\n",
       "      <td>players player admire growing</td>\n",
       "      <td>352</td>\n",
       "      <td>0.247449</td>\n",
       "      <td>F</td>\n",
       "    </tr>\n",
       "    <tr>\n",
       "      <th>2</th>\n",
       "      <td>shot clock thing countdown</td>\n",
       "      <td>441</td>\n",
       "      <td>0.702559</td>\n",
       "      <td>F</td>\n",
       "    </tr>\n",
       "    <tr>\n",
       "      <th>3</th>\n",
       "      <td>birthplace --ENT-- place lot --ENT-- --ENT-- b...</td>\n",
       "      <td>760</td>\n",
       "      <td>0.270464</td>\n",
       "      <td>F</td>\n",
       "    </tr>\n",
       "    <tr>\n",
       "      <th>4</th>\n",
       "      <td>--ENT-- match today</td>\n",
       "      <td>99</td>\n",
       "      <td>0.322474</td>\n",
       "      <td>F</td>\n",
       "    </tr>\n",
       "    <tr>\n",
       "      <th>...</th>\n",
       "      <td>...</td>\n",
       "      <td>...</td>\n",
       "      <td>...</td>\n",
       "      <td>...</td>\n",
       "    </tr>\n",
       "    <tr>\n",
       "      <th>2995</th>\n",
       "      <td>thing talking yesterday court adjusted --ENT--...</td>\n",
       "      <td>825</td>\n",
       "      <td>0.962224</td>\n",
       "      <td>M</td>\n",
       "    </tr>\n",
       "    <tr>\n",
       "      <th>2996</th>\n",
       "      <td>second set seventh game points drew bit reacti...</td>\n",
       "      <td>957</td>\n",
       "      <td>0.534116</td>\n",
       "      <td>M</td>\n",
       "    </tr>\n",
       "    <tr>\n",
       "      <th>2997</th>\n",
       "      <td>expect fined touching official shoving officia...</td>\n",
       "      <td>348</td>\n",
       "      <td>0.611607</td>\n",
       "      <td>M</td>\n",
       "    </tr>\n",
       "    <tr>\n",
       "      <th>2998</th>\n",
       "      <td>notion squash shots occasionally played shots ...</td>\n",
       "      <td>770</td>\n",
       "      <td>0.502502</td>\n",
       "      <td>M</td>\n",
       "    </tr>\n",
       "    <tr>\n",
       "      <th>2999</th>\n",
       "      <td>explain nervous playing --ENT-- moment</td>\n",
       "      <td>208</td>\n",
       "      <td>0.798758</td>\n",
       "      <td>M</td>\n",
       "    </tr>\n",
       "  </tbody>\n",
       "</table>\n",
       "<p>3000 rows × 4 columns</p>\n",
       "</div>"
      ],
      "text/plain": [
       "                                              questions  ranking  similarity  \\\n",
       "0                         successful --ENT-- today year      366    0.431568   \n",
       "1                         players player admire growing      352    0.247449   \n",
       "2                            shot clock thing countdown      441    0.702559   \n",
       "3     birthplace --ENT-- place lot --ENT-- --ENT-- b...      760    0.270464   \n",
       "4                                   --ENT-- match today       99    0.322474   \n",
       "...                                                 ...      ...         ...   \n",
       "2995  thing talking yesterday court adjusted --ENT--...      825    0.962224   \n",
       "2996  second set seventh game points drew bit reacti...      957    0.534116   \n",
       "2997  expect fined touching official shoving officia...      348    0.611607   \n",
       "2998  notion squash shots occasionally played shots ...      770    0.502502   \n",
       "2999             explain nervous playing --ENT-- moment      208    0.798758   \n",
       "\n",
       "     gender  \n",
       "0         F  \n",
       "1         F  \n",
       "2         F  \n",
       "3         F  \n",
       "4         F  \n",
       "...     ...  \n",
       "2995      M  \n",
       "2996      M  \n",
       "2997      M  \n",
       "2998      M  \n",
       "2999      M  \n",
       "\n",
       "[3000 rows x 4 columns]"
      ]
     },
     "execution_count": 4,
     "metadata": {},
     "output_type": "execute_result"
    }
   ],
   "source": [
    "questions"
   ]
  },
  {
   "cell_type": "code",
   "execution_count": 10,
   "metadata": {},
   "outputs": [
    {
     "name": "stdout",
     "output_type": "stream",
     "text": [
      "                            OLS Regression Results                            \n",
      "==============================================================================\n",
      "Dep. Variable:             similarity   R-squared:                       0.219\n",
      "Model:                            OLS   Adj. R-squared:                  0.219\n",
      "Method:                 Least Squares   F-statistic:                     841.1\n",
      "Date:                Tue, 17 Jan 2023   Prob (F-statistic):          3.16e-163\n",
      "Time:                        13:01:24   Log-Likelihood:                 77.527\n",
      "No. Observations:                3000   AIC:                            -151.1\n",
      "Df Residuals:                    2998   BIC:                            -139.0\n",
      "Df Model:                           1                                         \n",
      "Covariance Type:            nonrobust                                         \n",
      "==========================================================================================================\n",
      "                                             coef    std err          t      P>|t|      [0.025      0.975]\n",
      "----------------------------------------------------------------------------------------------------------\n",
      "Intercept                                  0.6248      0.006    103.854      0.000       0.613       0.637\n",
      "C(gender, Treatment(reference=1))[T.F]    -0.2499      0.009    -29.002      0.000      -0.267      -0.233\n",
      "==============================================================================\n",
      "Omnibus:                      134.873   Durbin-Watson:                   1.920\n",
      "Prob(Omnibus):                  0.000   Jarque-Bera (JB):               59.331\n",
      "Skew:                          -0.095   Prob(JB):                     1.31e-13\n",
      "Kurtosis:                       2.338   Cond. No.                         2.59\n",
      "==============================================================================\n",
      "\n",
      "Notes:\n",
      "[1] Standard Errors assume that the covariance matrix of the errors is correctly specified.\n"
     ]
    }
   ],
   "source": [
    "# we use a*b to add terms: a, b, a:b, and intercept\n",
    "\n",
    "mod = smf.ols(formula='similarity ~ C(gender,Treatment(reference=1))',\n",
    "              data=questions)\n",
    "\n",
    "\n",
    "res = mod.fit()\n",
    "\n",
    "print(res.summary())"
   ]
  },
  {
   "attachments": {},
   "cell_type": "markdown",
   "metadata": {},
   "source": [
    "2. **/True or false:/** According to the previous analysis, determine if the following statement is **true** or **false** and justify your answer. **\"Men are asked questions unrelated to tennis more often than women.\"**"
   ]
  },
  {
   "attachments": {},
   "cell_type": "markdown",
   "metadata": {},
   "source": [
    "According to the the regression coefficients, we can see that being a female will negatively predict how similar to tennis the questions are. \n",
    "\n",
    "To directly answer the question, the statement seems to be FALSE. In fact, from the analysis it appears that Women are asked questions unrelated to tennis more often."
   ]
  },
  {
   "attachments": {},
   "cell_type": "markdown",
   "metadata": {},
   "source": [
    "3. The ranking of players is a potential confounder here. We do not know whether the male and female players in the dataset have similar rankings. In that context, compute the average ranking for men and women. Determine if the difference is statistically significant. Additionally, create a scatter plot showing the relationship between ranking (on the y-axis) and similarity (in the x-axis) and compute Spearman's rank-correlation coefficient between `ranking` and `similarity`."
   ]
  },
  {
   "cell_type": "code",
   "execution_count": 16,
   "metadata": {},
   "outputs": [
    {
     "data": {
      "text/plain": [
       "<AxesSubplot: xlabel='ranking', ylabel='similarity'>"
      ]
     },
     "execution_count": 16,
     "metadata": {},
     "output_type": "execute_result"
    },
    {
     "data": {
      "image/png": "[encoded data removed]",
      "text/plain": [
       "<Figure size 640x480 with 1 Axes>"
      ]
     },
     "metadata": {},
     "output_type": "display_data"
    }
   ],
   "source": [
    "sns.scatterplot(questions, x='ranking',y='similarity')"
   ]
  },
  {
   "cell_type": "code",
   "execution_count": 26,
   "metadata": {},
   "outputs": [
    {
     "data": {
      "text/plain": [
       "Ttest_indResult(statistic=0.7959498763790183, pvalue=0.42612418722112966)"
      ]
     },
     "execution_count": 26,
     "metadata": {},
     "output_type": "execute_result"
    }
   ],
   "source": [
    "stats.ttest_ind(questions[questions.gender=='F'].ranking, \n",
    "                       questions[questions.gender=='M'].ranking, axis=0, \n",
    "                       equal_var=True, nan_policy='propagate')"
   ]
  },
  {
   "cell_type": "code",
   "execution_count": 25,
   "metadata": {},
   "outputs": [
    {
     "data": {
      "text/plain": [
       "SignificanceResult(statistic=-0.00793480965681015, pvalue=0.663973935968952)"
      ]
     },
     "execution_count": 25,
     "metadata": {},
     "output_type": "execute_result"
    }
   ],
   "source": [
    "stats.spearmanr(questions.ranking, questions.similarity)"
   ]
  },
  {
   "cell_type": "code",
   "execution_count": 28,
   "metadata": {},
   "outputs": [
    {
     "data": {
      "text/plain": [
       "SignificanceResult(statistic=0.4684717850897505, pvalue=1.540967585954858e-163)"
      ]
     },
     "execution_count": 28,
     "metadata": {},
     "output_type": "execute_result"
    }
   ],
   "source": [
    "stats.spearmanr(questions.similarity, questions.gender)"
   ]
  },
  {
   "attachments": {},
   "cell_type": "markdown",
   "metadata": {},
   "source": [
    "1. **/True or false:/** Assume that no variable other than `gender` and `ranking` can have any influence on the `similarity` of each question. Based on the analysis of the previous question, is the following statement **true** or **false**? Justify your answer. **\"Ranking is not a worrisome confounder for the regression of Task 5.1.\"**"
   ]
  },
  {
   "attachments": {},
   "cell_type": "markdown",
   "metadata": {},
   "source": [
    "We can see from the scatterplot, and the ttest from the ranking mean of men and women, and from the spearman correlation between similarity and ranking, that we have evidence to rule out ranking as a confounder"
   ]
  },
  {
   "cell_type": "markdown",
   "metadata": {},
   "source": []
  },
  {
   "cell_type": "code",
   "execution_count": null,
   "metadata": {},
   "outputs": [],
   "source": []
  }
 ],
 "metadata": {
  "kernelspec": {
   "display_name": "adaexam",
   "language": "python",
   "name": "python3"
  },
  "language_info": {
   "codemirror_mode": {
    "name": "ipython",
    "version": 3
   },
   "file_extension": ".py",
   "mimetype": "text/x-python",
   "name": "python",
   "nbconvert_exporter": "python",
   "pygments_lexer": "ipython3",
   "version": "3.9.7 (default, Sep 16 2021, 23:53:23) \n[Clang 12.0.0 ]"
  },
  "vscode": {
   "interpreter": {
    "hash": "32e73383bb02d337e144c536fbfe25f3a531940e97736c5ace4923135646823d"
   }
  }
 },
 "nbformat": 4,
 "nbformat_minor": 1
}
